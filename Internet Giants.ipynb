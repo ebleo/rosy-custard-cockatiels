{
 "cells": [
  {
   "cell_type": "markdown",
   "metadata": {},
   "source": [
    "# Internet Giants\n",
    "Data taken from google finance to compare performance of:\n",
    "- Google\n",
    "- Amazon\n",
    "- Facebook\n",
    "\n",
    "Who are the top 3 ranking internationally by revenue, and also US based companies (according to [Wikipedia][wiki1])\n",
    "\n",
    "[wiki1]: https://en.wikipedia.org/wiki/List_of_largest_Internet_companies"
   ]
  },
  {
   "cell_type": "code",
   "execution_count": null,
   "metadata": {
    "collapsed": true
   },
   "outputs": [],
   "source": []
  }
 ],
 "metadata": {
  "anaconda-cloud": {},
  "kernelspec": {
   "display_name": "Python [conda root]",
   "language": "python",
   "name": "conda-root-py"
  },
  "language_info": {
   "codemirror_mode": {
    "name": "ipython",
    "version": 3
   },
   "file_extension": ".py",
   "mimetype": "text/x-python",
   "name": "python",
   "nbconvert_exporter": "python",
   "pygments_lexer": "ipython3",
   "version": "3.5.2"
  }
 },
 "nbformat": 4,
 "nbformat_minor": 2
}
