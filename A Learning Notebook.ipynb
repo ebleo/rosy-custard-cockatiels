{
 "cells": [
  {
   "cell_type": "markdown",
   "metadata": {
    "deletable": true,
    "editable": true
   },
   "source": [
    "# Data Exploration\n",
    "\n",
    "[A cool trello board][3]\n",
    "\n",
    "Guide based [here](https://www.analyticsvidhya.com/blog/2016/01/guide-data-exploration/)\n",
    "\n",
    "also, python has a [`ggplot`](http://ggplot.yhathq.com/) package based on R\n",
    "- which i am currently finding useless but it's installed nonetheless\n",
    "\n",
    "[Harvard course](http://cs109.github.io/2014/pages/schedule.html)\n",
    "\n",
    "## A bunch of interesting data \n",
    "lives in the links [here](https://www.dataquest.io/blog/free-datasets-for-projects/)\n",
    "\n",
    "also some interesting stuff about `JSON` file type [here](https://blog.datafiniti.co/4-reasons-you-should-use-json-instead-of-csv-2cac362f1943#.ao8soha0g)\n",
    "- [JSON basics](http://codular.com/json)\n",
    "***\n",
    "\n",
    "# Python Programming Resources\n",
    "1. [\"How to Think Like a Computer Scientist: Python 3\"](http://openbookproject.net/thinkcs/python/english3e/index.html)\n",
    "\n",
    "## For Pandas\n",
    "1. [\"Pandas in 10\" (0.19.02)](http://pandas.pydata.org/pandas-docs/stable/10min.html)\n",
    "  1. [Hierarchal/MultiIndexing][1]\n",
    "  1. [Reshaping][2]\n",
    "1. [Learning Pandas][6]\n",
    "  \n",
    "## Cool stuff--repo\n",
    "1. [This fantastic little readme/repository][4]\n",
    "  - [Related video lectures](https://www.youtube.com/user/UWCSE/playlists?shelf_id=16&sort=dd&view=50 \"Prof. Pedro Domingos\")\n",
    "  - [Cool ipynb](http://nbviewer.jupyter.org/github/ogrisel/notebooks/blob/master/Labeled%20Faces%20in%20the%20Wild%20recognition.ipynb)\n",
    "\n",
    "***\n",
    "### Answered Questions:\n",
    "- [Attributes vs Methods][5]\n",
    "\n",
    "[1]: http://pandas.pydata.org/pandas-docs/stable/advanced.html#advanced-hierarchical\n",
    "[2]: http://pandas.pydata.org/pandas-docs/stable/reshaping.html#reshaping-stacking\n",
    "[3]: https://trello.com/b/rbpEfMld/data-science\n",
    "[4]: https://github.com/hangtwenty/dive-into-machine-learning\n",
    "[5]: http://stackoverflow.com/questions/17000450/difference-between-calling-a-method-and-accessing-an-attribute\n",
    "[6]: https://bitbucket.org/hrojas/learn-pandas"
   ]
  },
  {
   "cell_type": "markdown",
   "metadata": {
    "collapsed": true,
    "deletable": true,
    "editable": true
   },
   "source": [
    "There are different causes for missing variables. Depending on the cause, they should be treated differently.\n",
    "1. Missing at random\n",
    "  - this type of midding variable "
   ]
  },
  {
   "cell_type": "code",
   "execution_count": null,
   "metadata": {
    "collapsed": true,
    "deletable": true,
    "editable": true
   },
   "outputs": [],
   "source": []
  }
 ],
 "metadata": {
  "anaconda-cloud": {},
  "kernelspec": {
   "display_name": "Python [conda root]",
   "language": "python",
   "name": "conda-root-py"
  },
  "language_info": {
   "codemirror_mode": {
    "name": "ipython",
    "version": 3
   },
   "file_extension": ".py",
   "mimetype": "text/x-python",
   "name": "python",
   "nbconvert_exporter": "python",
   "pygments_lexer": "ipython3",
   "version": "3.5.2"
  }
 },
 "nbformat": 4,
 "nbformat_minor": 1
}
